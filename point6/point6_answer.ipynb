{
 "cells": [
  {
   "cell_type": "code",
   "execution_count": 41,
   "metadata": {},
   "outputs": [
    {
     "name": "stderr",
     "output_type": "stream",
     "text": [
      "c:\\ProgramData\\Anaconda3\\envs\\final_python\\lib\\site-packages\\sklearn\\datasets\\_openml.py:968: FutureWarning: The default value of `parser` will change from `'liac-arff'` to `'auto'` in 1.4. You can set `parser='auto'` to silence this warning. Therefore, an `ImportError` will be raised from 1.4 if the dataset is dense and pandas is not installed. Note that the pandas parser may return different data types. See the Notes Section in fetch_openml's API doc for details.\n",
      "  warn(\n"
     ]
    }
   ],
   "source": [
    "from point6.LogisticRegressionModelJIM import LogisticRegressionModelJIM\n",
    "classModel = LogisticRegressionModelJIM()\n",
    "x_train, x_test, y_train, y_test =classModel.get_nmist_data_splited(split_size=0.75)"
   ]
  },
  {
   "cell_type": "code",
   "execution_count": 52,
   "metadata": {},
   "outputs": [
    {
     "name": "stdout",
     "output_type": "stream",
     "text": [
      "(0, 784)\n",
      "(52500, 784)\n"
     ]
    }
   ],
   "source": [
    "x_train_filtered = x_train[(y_train == 8)]\n",
    "y_train_filtered = y_train[(y_train == 8) | (y_train == 0)]\n",
    "print(x_train_filtered.shape)\n",
    "print(x_train.shape)"
   ]
  },
  {
   "cell_type": "code",
   "execution_count": 54,
   "metadata": {},
   "outputs": [
    {
     "data": {
      "text/plain": [
       "Series([], Name: class, dtype: category\n",
       "Categories (10, object): ['0', '1', '2', '3', ..., '6', '7', '8', '9'])"
      ]
     },
     "execution_count": 54,
     "metadata": {},
     "output_type": "execute_result"
    }
   ],
   "source": [
    "y_train[y_train == 8]"
   ]
  },
  {
   "cell_type": "code",
   "execution_count": 30,
   "metadata": {},
   "outputs": [
    {
     "data": {
      "text/plain": [
       "{'message': 'Model trained!!'}"
      ]
     },
     "execution_count": 30,
     "metadata": {},
     "output_type": "execute_result"
    }
   ],
   "source": [
    "classModel.train_model(x_train,y_train)"
   ]
  },
  {
   "cell_type": "code",
   "execution_count": 36,
   "metadata": {},
   "outputs": [
    {
     "data": {
      "text/plain": [
       "array([[  259.73092012,  -291.75539652,    32.56188577,   250.50811177,\n",
       "           -2.80196857],\n",
       "       [  564.06749959,  -630.16623432,   -43.98888191,  -482.81328284,\n",
       "         -365.34801394],\n",
       "       [ -601.93882515,  -274.0988761 ,   925.54401878,   749.85577621,\n",
       "          400.76596639],\n",
       "       ...,\n",
       "       [  977.95034128,  -371.23776304,    15.11373836,     7.32203818,\n",
       "         -493.79953568],\n",
       "       [-1220.73151627,  -406.97585576,   784.2007394 ,   298.95561425,\n",
       "         -511.98833578],\n",
       "       [ -791.23586431, -1060.02307622,   819.70765346,   156.91343638,\n",
       "         -190.03194356]])"
      ]
     },
     "execution_count": 36,
     "metadata": {},
     "output_type": "execute_result"
    }
   ],
   "source": [
    "pca_transform = classModel.get_pca(x_data=x_train)"
   ]
  },
  {
   "cell_type": "code",
   "execution_count": 37,
   "metadata": {},
   "outputs": [
    {
     "ename": "MemoryError",
     "evalue": "Unable to allocate 20.5 GiB for an array with shape (52500, 52500) and data type float64",
     "output_type": "error",
     "traceback": [
      "\u001b[1;31m---------------------------------------------------------------------------\u001b[0m",
      "\u001b[1;31mMemoryError\u001b[0m                               Traceback (most recent call last)",
      "\u001b[1;32mc:\\Users\\jorge.morales\\Documents\\Personales\\UdeA\\MACHINE-LEARING-II\\unsupervised-package\\point6\\point6_answer.ipynb Cell 4\u001b[0m in \u001b[0;36m<cell line: 1>\u001b[1;34m()\u001b[0m\n\u001b[1;32m----> <a href='vscode-notebook-cell:/c%3A/Users/jorge.morales/Documents/Personales/UdeA/MACHINE-LEARING-II/unsupervised-package/point6/point6_answer.ipynb#X11sZmlsZQ%3D%3D?line=0'>1</a>\u001b[0m svd_transform \u001b[39m=\u001b[39m classModel\u001b[39m.\u001b[39;49mget_svd(x_data\u001b[39m=\u001b[39;49mx_train)\n",
      "File \u001b[1;32mc:\\users\\jorge.morales\\documents\\personales\\udea\\machine-learing-ii\\unsupervised-package\\point6\\LogisticRegressionModelJIM.py:47\u001b[0m, in \u001b[0;36mLogisticRegressionModelJIM.get_svd\u001b[1;34m(self, x_data)\u001b[0m\n\u001b[0;32m     45\u001b[0m \u001b[39mdef\u001b[39;00m \u001b[39mget_svd\u001b[39m(\u001b[39mself\u001b[39m,x_data,n_components\u001b[39m=\u001b[39m\u001b[39m5\u001b[39m):\n\u001b[0;32m     46\u001b[0m     svd \u001b[39m=\u001b[39m SVD(n_components\u001b[39m=\u001b[39mn_components)\n\u001b[1;32m---> 47\u001b[0m     svd_transfored \u001b[39m=\u001b[39m svd\u001b[39m.\u001b[39mfit_transform(x_data)\n\u001b[0;32m     48\u001b[0m     \u001b[39mreturn\u001b[39;00m svd_transfored\n",
      "File \u001b[1;32mc:\\ProgramData\\Anaconda3\\envs\\final_python\\lib\\site-packages\\unsupervised_jim\\dimensionality_reduction\\svd.py:41\u001b[0m, in \u001b[0;36mSVD.fit_transform\u001b[1;34m(self, matrix)\u001b[0m\n\u001b[0;32m     30\u001b[0m \u001b[39mdef\u001b[39;00m \u001b[39mfit_transform\u001b[39m(\u001b[39mself\u001b[39m,matrix):\n\u001b[0;32m     31\u001b[0m     \u001b[39m\"\"\"\u001b[39;00m\n\u001b[0;32m     32\u001b[0m \u001b[39m    Calculate the SVD of the matrix using NumPy.\u001b[39;00m\n\u001b[0;32m     33\u001b[0m \n\u001b[1;32m   (...)\u001b[0m\n\u001b[0;32m     38\u001b[0m \u001b[39m    - Array numpy.ndarrays: transformed matrix with componentes defined or 2 default\u001b[39;00m\n\u001b[0;32m     39\u001b[0m \u001b[39m    \"\"\"\u001b[39;00m\n\u001b[1;32m---> 41\u001b[0m     \u001b[39mself\u001b[39m\u001b[39m.\u001b[39mU, \u001b[39mself\u001b[39m\u001b[39m.\u001b[39mS, \u001b[39mself\u001b[39m\u001b[39m.\u001b[39mV \u001b[39m=\u001b[39m np\u001b[39m.\u001b[39;49mlinalg\u001b[39m.\u001b[39;49msvd(matrix)\n\u001b[0;32m     42\u001b[0m     matrix_transform \u001b[39m=\u001b[39m \u001b[39mself\u001b[39m\u001b[39m.\u001b[39m_reconstruct(\u001b[39mself\u001b[39m\u001b[39m.\u001b[39mU, \u001b[39mself\u001b[39m\u001b[39m.\u001b[39mS, \u001b[39mself\u001b[39m\u001b[39m.\u001b[39mV, \u001b[39mself\u001b[39m\u001b[39m.\u001b[39mn_components)\n\u001b[0;32m     43\u001b[0m     \u001b[39mreturn\u001b[39;00m matrix_transform\n",
      "File \u001b[1;32m<__array_function__ internals>:180\u001b[0m, in \u001b[0;36msvd\u001b[1;34m(*args, **kwargs)\u001b[0m\n",
      "File \u001b[1;32m~\\AppData\\Roaming\\Python\\Python39\\site-packages\\numpy\\linalg\\linalg.py:1657\u001b[0m, in \u001b[0;36msvd\u001b[1;34m(a, full_matrices, compute_uv, hermitian)\u001b[0m\n\u001b[0;32m   1654\u001b[0m         gufunc \u001b[39m=\u001b[39m _umath_linalg\u001b[39m.\u001b[39msvd_n_s\n\u001b[0;32m   1656\u001b[0m signature \u001b[39m=\u001b[39m \u001b[39m'\u001b[39m\u001b[39mD->DdD\u001b[39m\u001b[39m'\u001b[39m \u001b[39mif\u001b[39;00m isComplexType(t) \u001b[39melse\u001b[39;00m \u001b[39m'\u001b[39m\u001b[39md->ddd\u001b[39m\u001b[39m'\u001b[39m\n\u001b[1;32m-> 1657\u001b[0m u, s, vh \u001b[39m=\u001b[39m gufunc(a, signature\u001b[39m=\u001b[39;49msignature, extobj\u001b[39m=\u001b[39;49mextobj)\n\u001b[0;32m   1658\u001b[0m u \u001b[39m=\u001b[39m u\u001b[39m.\u001b[39mastype(result_t, copy\u001b[39m=\u001b[39m\u001b[39mFalse\u001b[39;00m)\n\u001b[0;32m   1659\u001b[0m s \u001b[39m=\u001b[39m s\u001b[39m.\u001b[39mastype(_realType(result_t), copy\u001b[39m=\u001b[39m\u001b[39mFalse\u001b[39;00m)\n",
      "\u001b[1;31mMemoryError\u001b[0m: Unable to allocate 20.5 GiB for an array with shape (52500, 52500) and data type float64"
     ]
    }
   ],
   "source": [
    "svd_transform = classModel.get_svd(x_data=x_train)"
   ]
  }
 ],
 "metadata": {
  "kernelspec": {
   "display_name": "udea_final_python",
   "language": "python",
   "name": "python3"
  },
  "language_info": {
   "codemirror_mode": {
    "name": "ipython",
    "version": 3
   },
   "file_extension": ".py",
   "mimetype": "text/x-python",
   "name": "python",
   "nbconvert_exporter": "python",
   "pygments_lexer": "ipython3",
   "version": "3.9.13"
  },
  "orig_nbformat": 4
 },
 "nbformat": 4,
 "nbformat_minor": 2
}
