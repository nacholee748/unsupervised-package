{
 "cells": [
  {
   "attachments": {},
   "cell_type": "markdown",
   "metadata": {},
   "source": [
    "1. Simulate any random rectangular matrix A.\n",
    "- What is the rank and trace of A?\n",
    "- What is the determinant of A?\n",
    "- Can you invert A? How?\n",
    "- How are eigenvalues and eigenvectors of A’A and AA’ related? What interesting differences can you notice between both?"
   ]
  },
  {
   "cell_type": "code",
   "execution_count": 1,
   "metadata": {},
   "outputs": [
    {
     "name": "stdout",
     "output_type": "stream",
     "text": [
      "Matrix rank:  3\n",
      "Matrix Trace 1.425423171686196\n",
      "Matrix Determinant only can compute for square matrix\n",
      "\n",
      " eigenvectors of A’A \n",
      " [[ 0.59289208  0.80274648 -0.06385199]\n",
      " [ 0.48177661 -0.41712895 -0.77064566]\n",
      " [ 0.6452676  -0.42614731  0.63405693]]\n",
      "\n",
      " eigenvectors of AA’ \n",
      " [[-0.32108603  0.55207745  0.46588512  0.53603397 -0.29619737]\n",
      " [ 0.3202572   0.44413646 -0.69947044  0.09392932 -0.44955146]\n",
      " [ 0.62314193 -0.15676279  0.50522729 -0.20241775 -0.53934404]\n",
      " [-0.57551306  0.09337987 -0.0090384  -0.67928052 -0.44560207]\n",
      " [-0.27352867 -0.68165895 -0.19584647  0.44883171 -0.46980571]]\n",
      "\n",
      " eigenvalues of A’A \n",
      " [5.6321058  0.09676125 0.66183057]\n",
      "\n",
      " eigenvalues of AA' \n",
      " [-1.91272869e-17  3.03621937e-16  9.67612533e-02  6.61830570e-01\n",
      "  5.63210580e+00]\n",
      "\n",
      "Eigenvectos and eigenvalues for both A'A and AA' are related because their come from dot product of the same matrix  \n",
      "\n",
      "An interesting diferences,  A’A correspond to matrix cols size and AA' correspond to matrix rows size \n",
      "\n"
     ]
    }
   ],
   "source": [
    "import numpy as np\n",
    "\n",
    "# 1\n",
    "import numpy as np\n",
    "\n",
    "# Define matrix rows and cols\n",
    "n_rows = 5\n",
    "n_cols = 3\n",
    "\n",
    "# Creating a random matrix\n",
    "A_random_matrix = np.random.rand(n_rows,n_cols)\n",
    "\n",
    "# Get Matrix Rank\n",
    "rank = np.linalg.matrix_rank(A_random_matrix)\n",
    "print(\"Matrix rank: \",rank)\n",
    "\n",
    "# Get Matrix Trace\n",
    "trace = np.trace(A_random_matrix)\n",
    "print(\"Matrix Trace\", trace)\n",
    "\n",
    "# Get Matrix Determinant and Inverse, we can get it only for square matrix\n",
    "if n_rows == n_cols:\n",
    "    determinant = np.linalg.det(A_random_matrix)\n",
    "    print(\"Matrix Determinant\", determinant)\n",
    "    inverse = np.linalg.inv(A_random_matrix)\n",
    "    print(\"Matrix Inverse\",inverse)\n",
    "else:\n",
    "    print(\"Matrix Determinant only can compute for square matrix\")\n",
    "\n",
    "\n",
    "# Get eigenvalues and eigenvectors of A’A and AA’ related? What interesting differences can you notice between both? ##\n",
    "AtransposedxA = A_random_matrix.T.dot(A_random_matrix)\n",
    "AxAtransposed = A_random_matrix.dot(A_random_matrix.T)\n",
    "    \n",
    "eigval_AtransposedxA, eigvec_AtransposedxA = np.linalg.eig(AtransposedxA)\n",
    "eigval_AxAtransposed, eigvec_AxAtransposed = np.linalg.eigh(AxAtransposed)\n",
    "    \n",
    "print(\"\\n eigenvectors of A’A \\n\",eigvec_AtransposedxA)\n",
    "print(\"\\n eigenvectors of AA’ \\n\",eigvec_AxAtransposed)\n",
    "print(\"\\n eigenvalues of A’A \\n\",eigval_AtransposedxA)\n",
    "print(\"\\n eigenvalues of AA' \\n\",eigval_AxAtransposed)   \n",
    "\n",
    "print(\"\\nEigenvectos and eigenvalues for both A'A and AA' are related because their come from dot product of the same matrix  \\n\")\n",
    "print(\"An interesting diferences,  A’A correspond to matrix cols size and AA' correspond to matrix rows size \\n\")"
   ]
  }
 ],
 "metadata": {
  "kernelspec": {
   "display_name": "udea_final_python",
   "language": "python",
   "name": "python3"
  },
  "language_info": {
   "codemirror_mode": {
    "name": "ipython",
    "version": 3
   },
   "file_extension": ".py",
   "mimetype": "text/x-python",
   "name": "python",
   "nbconvert_exporter": "python",
   "pygments_lexer": "ipython3",
   "version": "3.9.13"
  },
  "orig_nbformat": 4
 },
 "nbformat": 4,
 "nbformat_minor": 2
}
