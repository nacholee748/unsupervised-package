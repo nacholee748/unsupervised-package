{
 "cells": [
  {
   "attachments": {},
   "cell_type": "markdown",
   "metadata": {},
   "source": [
    "1. Simulate any random rectangular matrix A.\n",
    "- What is the rank and trace of A?\n",
    "- What is the determinant of A?\n",
    "- Can you invert A? How?\n",
    "- How are eigenvalues and eigenvectors of A’A and AA’ related? What interesting differences can you notice between both?"
   ]
  },
  {
   "cell_type": "code",
   "execution_count": 1,
   "metadata": {},
   "outputs": [
    {
     "name": "stdout",
     "output_type": "stream",
     "text": [
      "Matrix rank:  2\n",
      "Matrix Trace 0.9406228875235496\n",
      "Matrix Determinant -0.1097988887141021\n",
      "Matrix Inverse [[-0.83186505  2.93241568]\n",
      " [ 5.30005534 -7.73491462]]\n",
      "\n",
      " eigenvectors of A’A \n",
      " [[ 0.95483804 -0.29712677]\n",
      " [ 0.29712677  0.95483804]]\n",
      "\n",
      " eigenvectors of AA’ \n",
      " [[ 0.54074773 -0.84118482]\n",
      " [-0.84118482 -0.54074773]]\n",
      "\n",
      " eigenvalues of A’A \n",
      " [1.16157172 0.01037886]\n",
      "\n",
      " eigenvalues of AA' \n",
      " [0.01037886 1.16157172]\n",
      "\n",
      "Eigenvectos and eigenvalues for both A'A and AA' are related because their come from dot product of the same matrix  \n",
      "\n",
      "An interesting diferences,  A’A correspond to matrix cols size and AA' correspond to matrix rows size \n",
      "\n"
     ]
    }
   ],
   "source": [
    "from point1.point1_answer import run_point1\n",
    "nrow,ncols= 5,7\n",
    "run_point1()"
   ]
  }
 ],
 "metadata": {
  "kernelspec": {
   "display_name": "udea_final_python",
   "language": "python",
   "name": "python3"
  },
  "language_info": {
   "codemirror_mode": {
    "name": "ipython",
    "version": 3
   },
   "file_extension": ".py",
   "mimetype": "text/x-python",
   "name": "python",
   "nbconvert_exporter": "python",
   "pygments_lexer": "ipython3",
   "version": "3.9.13"
  },
  "orig_nbformat": 4
 },
 "nbformat": 4,
 "nbformat_minor": 2
}
