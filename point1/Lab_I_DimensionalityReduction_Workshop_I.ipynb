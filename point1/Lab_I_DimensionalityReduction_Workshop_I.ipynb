{
  "cells": [
    {
      "attachments": {},
      "cell_type": "markdown",
      "metadata": {
        "id": "GvvnEktNRovu"
      },
      "source": [
        "1. Simulate any random rectangular matrix A.\n",
        "- What is the rank and trace of A?\n",
        "- What is the determinant of A?\n",
        "- Can you invert A? How?\n",
        "- How are eigenvalues and eigenvectors of A’A and AA’ related? What interesting differences can you notice between both?"
      ]
    },
    {
      "cell_type": "code",
      "execution_count": 7,
      "metadata": {
        "colab": {
          "base_uri": "https://localhost:8080/"
        },
        "id": "O_TDi7VqRVB9",
        "outputId": "fa1fd9db-1b77-446a-d20a-de4cc2874f01"
      },
      "outputs": [
        {
          "name": "stdout",
          "output_type": "stream",
          "text": [
            "Matrix rank:  3\n",
            "Matrix Trace 1.6126194539223078\n",
            "Matrix Determinant only can compute for square matrix\n",
            "eigenvalues_AtA  [3.033651   0.52697607 0.13335799]\n",
            "eigenvectors_AtA  [[ 0.63049226  0.73484547 -0.2499633 ]\n",
            " [ 0.50234372 -0.63180717 -0.59031389]\n",
            " [ 0.59171809 -0.24662085  0.76749453]]\n",
            "eigenvalues_AAt  [7.22185939e-17 3.71870616e-16 1.33357993e-01 5.26976066e-01\n",
            " 3.03365100e+00]\n",
            "eigenvectors_AAt  [[ 0.28385977 -0.73597191  0.19068652  0.0408415  -0.58287185]\n",
            " [ 0.30988624  0.608703    0.24752415  0.46712201 -0.50396428]\n",
            " [-0.88882676 -0.02501316  0.33021214  0.14158702 -0.28332736]\n",
            " [-0.18050782 -0.03509464 -0.88351835  0.29724589 -0.31181005]\n",
            " [-0.02825023  0.2932042  -0.11280835 -0.81958953 -0.47831005]]\n"
          ]
        }
      ],
      "source": [
        "# 1\n",
        "import numpy as np\n",
        "\n",
        "# Define rows and cols for the matrix\n",
        "n_rows = 5\n",
        "n_cols = 3\n",
        "\n",
        "# Creating a random matrix\n",
        "A_random_matrix = np.random.rand(n_rows,n_cols)\n",
        "\n",
        "# Get Matrix Rank\n",
        "rank = np.linalg.matrix_rank(A_random_matrix)\n",
        "print(\"Matrix rank: \",rank)\n",
        "\n",
        "# Get Matrix Trace\n",
        "trace = np.trace(A_random_matrix)\n",
        "print(\"Matrix Trace\", trace)\n",
        "\n",
        "# Get Matrix Determinant and Inverse, we can get it only for square matrix\n",
        "if n_rows == n_cols:\n",
        "    determinant = np.linalg.det(A_random_matrix)\n",
        "    print(\"Matrix Determinant\", determinant)\n",
        "    inverse = np.linalg.inv(A_random_matrix)\n",
        "    print(\"Matrix Inverse\",inverse)\n",
        "else:\n",
        "    print(\"Matrix Determinant only can compute for square matrix\")\n",
        "\n",
        "\n",
        "# Get eigenvalues and eigenvectors of A’A and AA’ related? What interesting differences can you notice between both? ##\n",
        "AtA = A_random_matrix.T @ A_random_matrix\n",
        "AAt = A_random_matrix @ A_random_matrix.T\n",
        "    \n",
        "eigenvalues_AtA, eigenvectors_AtA = np.linalg.eig(AtA)\n",
        "eigenvalues_AAt, eigenvectors_AAt = np.linalg.eigh(AAt)\n",
        "    \n",
        "print(\"eigenvalues_AtA \",eigenvalues_AtA)\n",
        "print(\"eigenvectors_AtA \",eigenvectors_AtA)\n",
        "print(\"eigenvalues_AAt \",eigenvalues_AAt)\n",
        "print(\"eigenvectors_AAt \",eigenvectors_AAt)   "
      ]
    }
  ],
  "metadata": {
    "colab": {
      "provenance": []
    },
    "kernelspec": {
      "display_name": "Python 3",
      "name": "python3"
    },
    "language_info": {
      "codemirror_mode": {
        "name": "ipython",
        "version": 3
      },
      "file_extension": ".py",
      "mimetype": "text/x-python",
      "name": "python",
      "nbconvert_exporter": "python",
      "pygments_lexer": "ipython3",
      "version": "3.9.13"
    }
  },
  "nbformat": 4,
  "nbformat_minor": 0
}
