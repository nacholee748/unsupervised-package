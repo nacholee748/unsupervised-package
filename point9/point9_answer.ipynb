{
 "cells": [
  {
   "attachments": {},
   "cell_type": "markdown",
   "metadata": {},
   "source": [
    "#Point 9:\n",
    "\n",
    "UMAP (Uniform Manifold Approximation and Projection) is a dimensionality reduction technique that uses a combination of mathematical principles from nerve theorem, graph theory, Riemannian geometry, and topological data analysis to construct a low-dimensional representation of high-dimensional data.\n",
    "\n",
    "UMAP preserves the topological structure of an original set, and drastically reduces the times and processing times of T-SNE processing.\n",
    "\n",
    "It has an advantage that it doesn't need to be reset every time new points are added to the pool.\n",
    "\n",
    "- The nerve theorem is used to construct a simplicial complex that captures the topological structure of the data. UMAP constructs a weighted k-nearest neighbor graph, where each data point is connected to its k nearest neighbors, and uses the weights on these edges to represent the degree of similarity between the connected points.\n",
    "\n",
    "- Riemannian geometry is used to measure the distance between points in the low-dimensional space by minimizing a cost function based on a Riemannian metriz, which measures the curvature of a space.\n",
    "\n",
    "- Topological Data Analysis (TDA) is a branch of mathematics that uses algebraic topological structure of data. In the context of UMAP, TDA is used to construct a simplicial complex using the Mapper algorithm, which constructs a simplicial complex based on a cover of overlapping sets."
   ]
  }
 ],
 "metadata": {
  "kernelspec": {
   "display_name": "final_python",
   "language": "python",
   "name": "python3"
  },
  "language_info": {
   "codemirror_mode": {
    "name": "ipython",
    "version": 3
   },
   "file_extension": ".py",
   "mimetype": "text/x-python",
   "name": "python",
   "nbconvert_exporter": "python",
   "pygments_lexer": "ipython3",
   "version": "3.9.13"
  },
  "orig_nbformat": 4
 },
 "nbformat": 4,
 "nbformat_minor": 2
}
