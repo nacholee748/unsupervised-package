{
 "cells": [
  {
   "cell_type": "code",
   "execution_count": 2,
   "metadata": {},
   "outputs": [
    {
     "data": {
      "text/plain": [
       "1"
      ]
     },
     "execution_count": 2,
     "metadata": {},
     "output_type": "execute_result"
    }
   ],
   "source": [
    "#2\n",
    "from PIL import Image\n",
    "import matplotlib.pyplot as plt\n",
    "\n",
    "my_picture = Image.open('./drive/MyDrive/AprendizajeAutomatico2/pictureFace/JorgeMorales.jpg').convert('L')\n",
    "plt.imshow(my_picture)\n",
    "\n",
    "my_picture = my_picture.resize((255,255))\n",
    "plt.imshow(my_picture)\n",
    "# my_picture.shape"
   ]
  }
 ],
 "metadata": {
  "kernelspec": {
   "display_name": "udea_final_python",
   "language": "python",
   "name": "python3"
  },
  "language_info": {
   "codemirror_mode": {
    "name": "ipython",
    "version": 3
   },
   "file_extension": ".py",
   "mimetype": "text/x-python",
   "name": "python",
   "nbconvert_exporter": "python",
   "pygments_lexer": "ipython3",
   "version": "3.9.13"
  },
  "orig_nbformat": 4
 },
 "nbformat": 4,
 "nbformat_minor": 2
}
