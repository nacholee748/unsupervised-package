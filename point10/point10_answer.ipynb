{
 "cells": [
  {
   "attachments": {},
   "cell_type": "markdown",
   "metadata": {},
   "source": [
    "#Point 10:\n",
    "\n",
    "LDA (Latent Dirichlet Allocation) is a probabilistic model used in machine learning and natural language processing to analyze large sets of text data and discover latent or hidden topics. The mathematical principles underlying LDA are based on probability theory and topic modeling.\n",
    "\n",
    "- The LDA model is based on the assumption that each document is composed of a mixture of several topics and that each word in the document is generated from one of these topics. The model uses statistical inference techniques to find the most likely topic distribution for each document and the most likely word distribution for each topic.\n",
    "\n",
    "- Uses an unsupervised learning approach, which means it does not require labels or prior information about the data. Instead, the model automatically infers the underlying structure of the data.\n",
    "\n",
    "- Is useful in a variety of applications, such as automatic document classification, news clustering, and identifying emerging topics on social media."
   ]
  }
 ],
 "metadata": {
  "kernelspec": {
   "display_name": "final_python",
   "language": "python",
   "name": "python3"
  },
  "language_info": {
   "codemirror_mode": {
    "name": "ipython",
    "version": 3
   },
   "file_extension": ".py",
   "mimetype": "text/x-python",
   "name": "python",
   "nbconvert_exporter": "python",
   "pygments_lexer": "ipython3",
   "version": "3.9.13"
  },
  "orig_nbformat": 4
 },
 "nbformat": 4,
 "nbformat_minor": 2
}
