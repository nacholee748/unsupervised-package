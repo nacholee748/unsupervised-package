{
 "cells": [
  {
   "attachments": {},
   "cell_type": "markdown",
   "metadata": {},
   "source": [
    "#Point 8 <br>\n",
    "\n",
    "Robuster PCA:\n",
    "1. Deleting outliers and dirty data.\n",
    "\n",
    "2. L1 norm is often used as a measure of dispersion that is more resistant to outliers than the standard deviation used in standard PCA. L1 norm is also known as the \"absolute summary values\" and is defined as the sum of the absolute values of the elements of a vector.\n",
    "\n",
    "3. Use covariance matrix based on the standard deviation, a covariance matrix based on the L1 norm is used, which is called the L1 covariance matrix. This L1 covariance matrix is calculated using the median absolute deviation (MAD) instead of the standard deviation."
   ]
  }
 ],
 "metadata": {
  "kernelspec": {
   "display_name": "final_python",
   "language": "python",
   "name": "python3"
  },
  "language_info": {
   "codemirror_mode": {
    "name": "ipython",
    "version": 3
   },
   "file_extension": ".py",
   "mimetype": "text/x-python",
   "name": "python",
   "nbconvert_exporter": "python",
   "pygments_lexer": "ipython3",
   "version": "3.9.13"
  },
  "orig_nbformat": 4
 },
 "nbformat": 4,
 "nbformat_minor": 2
}
